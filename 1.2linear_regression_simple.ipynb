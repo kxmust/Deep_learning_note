{
 "cells": [
  {
   "cell_type": "code",
   "execution_count": 1,
   "id": "47b72258",
   "metadata": {},
   "outputs": [],
   "source": [
    "import numpy as np\n",
    "import torch\n",
    "from torch.utils import data\n",
    "from d2l import torch as d2l\n",
    "\n",
    "true_w = torch.tensor([2,-3.4])\n",
    "true_b = 4.2\n",
    "features, labels = d2l.synthetic_data(true_w, true_b, 1000) # 用d2l中的工具生成人工数据和标签"
   ]
  },
  {
   "cell_type": "code",
   "execution_count": 3,
   "id": "fcc74109",
   "metadata": {},
   "outputs": [
    {
     "data": {
      "text/plain": [
       "[tensor([[-0.5352, -1.4922],\n",
       "         [-1.2531, -0.6890],\n",
       "         [-1.0247,  0.3375],\n",
       "         [ 2.1508,  0.7046],\n",
       "         [ 0.1340,  0.8308],\n",
       "         [ 0.7091,  0.7682],\n",
       "         [ 0.5708, -0.7140],\n",
       "         [ 0.1230, -1.4271],\n",
       "         [-0.5348, -0.6385],\n",
       "         [-1.2592, -0.5727]]),\n",
       " tensor([[8.2203],\n",
       "         [4.0306],\n",
       "         [1.0114],\n",
       "         [6.0884],\n",
       "         [1.6382],\n",
       "         [3.0223],\n",
       "         [7.7846],\n",
       "         [9.3008],\n",
       "         [5.2973],\n",
       "         [3.6327]])]"
      ]
     },
     "execution_count": 3,
     "metadata": {},
     "output_type": "execute_result"
    }
   ],
   "source": [
    "# 将数据导入到pytorch自带的dataset集中，然后用自带的dataloader函数进行批量随机提取\n",
    "def load_array(data_arrays, batch_size, is_train=True):\n",
    "    \"\"\"构造一个pytorch数据迭代器\"\"\"\n",
    "    dataset = data.TensorDataset(*data_arrays)\n",
    "    return data.DataLoader(dataset, batch_size, shuffle=is_train)\n",
    "\n",
    "batch_size = 10\n",
    "data_iter = load_array((features, labels), batch_size)\n",
    "next(iter(data_iter))"
   ]
  },
  {
   "cell_type": "code",
   "execution_count": 12,
   "id": "642991a9",
   "metadata": {},
   "outputs": [
    {
     "data": {
      "text/plain": [
       "tensor([0.])"
      ]
     },
     "execution_count": 12,
     "metadata": {},
     "output_type": "execute_result"
    }
   ],
   "source": [
    "# 利用torch自带的方法构建神经网络模型，并初始化参数\n",
    "from torch import nn\n",
    "net = nn.Sequential(nn.Linear(2,1))  # 一层的线性网络\n",
    "\n",
    "net[0].weight.data.normal_(0,0.01)  # 使用正太分布函数初始化权重参数\n",
    "net[0].bias.data.fill_(0)      "
   ]
  },
  {
   "cell_type": "code",
   "execution_count": 13,
   "id": "383ff436",
   "metadata": {},
   "outputs": [],
   "source": [
    "# 损失函数\n",
    "loss = nn.MSELoss()\n",
    "\n",
    "# 优化方法\n",
    "trainer = torch.optim.SGD(net.parameters(), lr=0.03)\n"
   ]
  },
  {
   "cell_type": "code",
   "execution_count": 14,
   "id": "b6133314",
   "metadata": {},
   "outputs": [
    {
     "name": "stdout",
     "output_type": "stream",
     "text": [
      "epoch1, loss 0.000393\n",
      "epoch2, loss 0.000100\n",
      "epoch3, loss 0.000100\n"
     ]
    }
   ],
   "source": [
    "# 开始训练\n",
    "num_epochs = 3\n",
    "for epoch in range(num_epochs):\n",
    "    for X,y in data_iter:\n",
    "        l = loss(net(X), y)\n",
    "        trainer.zero_grad()\n",
    "        l.backward()\n",
    "        trainer.step()\n",
    "        \n",
    "    l = loss(net(features), labels)\n",
    "    print(f'epoch{epoch+1}, loss{l: f}')\n",
    "    "
   ]
  }
 ],
 "metadata": {
  "kernelspec": {
   "display_name": "torchcpu",
   "language": "python",
   "name": "torchcpu"
  },
  "language_info": {
   "codemirror_mode": {
    "name": "ipython",
    "version": 3
   },
   "file_extension": ".py",
   "mimetype": "text/x-python",
   "name": "python",
   "nbconvert_exporter": "python",
   "pygments_lexer": "ipython3",
   "version": "3.7.11"
  }
 },
 "nbformat": 4,
 "nbformat_minor": 5
}
