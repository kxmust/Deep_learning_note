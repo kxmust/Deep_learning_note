{
 "cells": [
  {
   "cell_type": "code",
   "execution_count": 2,
   "id": "7bfa6046-8e4e-4bc9-88c2-6702a2ec63cb",
   "metadata": {},
   "outputs": [
    {
     "data": {
      "text/plain": [
       "tensor([[-0.1162,  0.0040,  0.0856,  0.0443,  0.1198, -0.1034,  0.0087,  0.0161,\n",
       "         -0.3117,  0.0102],\n",
       "        [-0.0211,  0.0719,  0.0476,  0.0228,  0.0640, -0.1122,  0.1205,  0.1089,\n",
       "         -0.3999,  0.0659]], grad_fn=<AddmmBackward0>)"
      ]
     },
     "execution_count": 2,
     "metadata": {},
     "output_type": "execute_result"
    }
   ],
   "source": [
    "import torch\n",
    "from torch import nn\n",
    "from torch.nn import functional as F\n",
    "\n",
    "net = nn.Sequential(nn.Linear(20, 256), nn.ReLU(), nn.Linear(256, 10))\n",
    "\n",
    "X = torch.rand(2, 20)\n",
    "\n",
    "net(X)"
   ]
  },
  {
   "cell_type": "code",
   "execution_count": 3,
   "id": "99b4bd7f-d53b-44bc-9ece-1348421b7d62",
   "metadata": {},
   "outputs": [
    {
     "data": {
      "text/plain": [
       "tensor([[-0.0999,  0.0850,  0.0518, -0.0136,  0.1239, -0.1613, -0.0715,  0.1913,\n",
       "          0.2316, -0.0958],\n",
       "        [ 0.0376,  0.0959,  0.0873, -0.0294,  0.0946, -0.0899, -0.0307,  0.0194,\n",
       "          0.0905, -0.0806]], grad_fn=<AddmmBackward0>)"
      ]
     },
     "execution_count": 3,
     "metadata": {},
     "output_type": "execute_result"
    }
   ],
   "source": [
    "#nn.Sequential是一个模组，我们也可以自己定义一个模组来构建神经网络\n",
    "class MLP(nn.Module):   # 表示是nn模组的子类\n",
    "    def __init__(self):   # 定义有哪些参数\n",
    "        super().__init__()  # 调用一个父类，来先设置需要的内部的参数\n",
    "        self.hidden = nn.Linear(20, 256)   # 定义一个线下层存在一个成员变量中\n",
    "        self.out = nn.Linear(256,10)\n",
    "\n",
    "    def forward(self, X):\n",
    "        return self.out(F.relu(self.hidden(X)))\n",
    "\n",
    "net = MLP()\n",
    "net(X)\n",
    "    "
   ]
  },
  {
   "cell_type": "code",
   "execution_count": 4,
   "id": "98e03536-01fa-47ef-b9e2-61f3fa4be032",
   "metadata": {},
   "outputs": [
    {
     "data": {
      "text/plain": [
       "tensor([[-0.0338, -0.0694,  0.1117,  0.1536, -0.0029, -0.0604,  0.0495, -0.1078,\n",
       "         -0.2826,  0.1289],\n",
       "        [ 0.0733, -0.0381,  0.0374,  0.1333,  0.0127, -0.0720,  0.0955, -0.0434,\n",
       "         -0.3123,  0.0732]], grad_fn=<AddmmBackward0>)"
      ]
     },
     "execution_count": 4,
     "metadata": {},
     "output_type": "execute_result"
    }
   ],
   "source": [
    "## 如何实现前面的nn.Sequential模组\n",
    "class MySequential(nn.Module):\n",
    "    def __init__(self, *args):  #*args表示接入一个有序列表, **表示字典\n",
    "        super().__init__()\n",
    "        for block in args:\n",
    "            self._modules[block] = block  # 是一个有序的字典,_modules是一个特殊的容器，表示放进去的是每一层网络\n",
    "\n",
    "    def forward(self, X):\n",
    "        for block in self._modules.values():\n",
    "            X = block(X)    #利用每一层网络处理输入X\n",
    "        return X\n",
    "\n",
    "net = MySequential(nn.Linear(20, 256), nn.ReLU(), nn.Linear(256, 10))\n",
    "net(X)"
   ]
  },
  {
   "cell_type": "code",
   "execution_count": 5,
   "id": "885b1e17-8642-458a-b914-50db9dfd4fe9",
   "metadata": {},
   "outputs": [
    {
     "data": {
      "text/plain": [
       "tensor(0.3965, grad_fn=<SumBackward0>)"
      ]
     },
     "execution_count": 5,
     "metadata": {},
     "output_type": "execute_result"
    }
   ],
   "source": [
    "# 当Sequential这个类无法满足我们的计算需求时,我们可以自定义类来实现特殊的计算\n",
    "class FixedHiddenMLP(nn.Module):\n",
    "    def __init__(self):\n",
    "        super().__init__()\n",
    "        # 不计算梯度的随机权重参数。因此其在训练期间保持不变\n",
    "        self.rand_weight = torch.rand((20, 20), requires_grad=False)\n",
    "        self.linear = nn.Linear(20, 20)\n",
    "    \n",
    "    def forward(self, X):\n",
    "        X = self.linear(X)\n",
    "        # 使用创建的常量参数以及relu和mm函数\n",
    "        X = F.relu(torch.mm(X, self.rand_weight) + 1)\n",
    "        # 复用全连接层。这相当于两个全连接层共享参数\n",
    "        X = self.linear(X)\n",
    "        # 控制流\n",
    "        while X.abs().sum() > 1:\n",
    "            X /= 2\n",
    "        return X.sum()\n",
    "\n",
    "net = FixedHiddenMLP()\n",
    "net(X)"
   ]
  },
  {
   "cell_type": "code",
   "execution_count": 6,
   "id": "1afe17c8-63e4-4b96-89e9-9429913d59b4",
   "metadata": {},
   "outputs": [
    {
     "data": {
      "text/plain": [
       "tensor(-0.2316, grad_fn=<SumBackward0>)"
      ]
     },
     "execution_count": 6,
     "metadata": {},
     "output_type": "execute_result"
    }
   ],
   "source": [
    "## 可以嵌套使用各种模组中的子类\n",
    "class NestMLP(nn.Module):\n",
    "    def __init__(self):\n",
    "        super().__init__()\n",
    "        self.net = nn.Sequential(nn.Linear(20, 64), nn.ReLU(),\n",
    "                                nn.Linear(64, 32), nn.ReLU())\n",
    "        self.linear = nn.Linear(32, 16)\n",
    "        \n",
    "    def forward(self, X):\n",
    "        return self.linear(self.net(X))\n",
    "        \n",
    "chimera = nn.Sequential(NestMLP(), nn.Linear(16, 20), FixedHiddenMLP())\n",
    "chimera(X)"
   ]
  }
 ],
 "metadata": {
  "kernelspec": {
   "display_name": "python(pytorch)",
   "language": "python",
   "name": "pytorch"
  },
  "language_info": {
   "codemirror_mode": {
    "name": "ipython",
    "version": 3
   },
   "file_extension": ".py",
   "mimetype": "text/x-python",
   "name": "python",
   "nbconvert_exporter": "python",
   "pygments_lexer": "ipython3",
   "version": "3.9.21"
  }
 },
 "nbformat": 4,
 "nbformat_minor": 5
}
